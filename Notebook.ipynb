{
  "nbformat": 4,
  "nbformat_minor": 0,
  "metadata": {
    "colab": {
      "name": "Copy of Untitled0.ipynb",
      "provenance": [],
      "collapsed_sections": []
    },
    "kernelspec": {
      "name": "python3",
      "display_name": "Python 3"
    }
  },
  "cells": [
    {
      "cell_type": "markdown",
      "metadata": {
        "id": "89oJ-aRNGuQ1",
        "colab_type": "text"
      },
      "source": [
        "# Tools\n",
        "* **Google Colab**: to share nootbooks easly and avoid configuration problems\n",
        "* **Scikit Learn**: Simple and efficient tools for predictive data analysis\n",
        "\n",
        "a\n"
      ]
    },
    {
      "cell_type": "markdown",
      "metadata": {
        "id": "fVl7izffPrt4",
        "colab_type": "text"
      },
      "source": [
        "# Implementation"
      ]
    },
    {
      "cell_type": "code",
      "metadata": {
        "id": "xcGU0A4rKAaA",
        "colab_type": "code",
        "colab": {}
      },
      "source": [
        "from sklearn.model_selection import train_test_split\n",
        "import pandas as pd\n",
        "import numpy as np\n",
        "from sklearn.ensemble import RandomForestClassifier\n",
        "from sklearn.neighbors import KNeighborsClassifier\n",
        "from sklearn.metrics import f1_score\n",
        "from sklearn.metrics import accuracy_score\n",
        "from sklearn.metrics import plot_confusion_matrix\n",
        "from sklearn.model_selection import cross_val_predict\n",
        "from sklearn.metrics import recall_score\n",
        "from sklearn import preprocessing\n",
        "import matplotlib.pyplot as plt"
      ],
      "execution_count": 14,
      "outputs": []
    },
    {
      "cell_type": "markdown",
      "metadata": {
        "id": "OI4Ce3_zPnMw",
        "colab_type": "text"
      },
      "source": [
        "## Get Dataset\n",
        "Download dataset from Github"
      ]
    },
    {
      "cell_type": "code",
      "metadata": {
        "id": "FDha6vUGX6g9",
        "colab_type": "code",
        "cellView": "code",
        "colab": {}
      },
      "source": [
        "def get_dataset(url):\n",
        "  dataset = pd.read_csv(url, sep=';', header=None)\n",
        "  # print(dataset.head())\n",
        "  return dataset\n",
        "label_column = 14"
      ],
      "execution_count": 15,
      "outputs": []
    },
    {
      "cell_type": "markdown",
      "metadata": {
        "id": "FmGR3iTnP3_W",
        "colab_type": "text"
      },
      "source": [
        "## Data preprocessing\n",
        "Preparing data for Scikit Learn"
      ]
    },
    {
      "cell_type": "markdown",
      "metadata": {
        "id": "UqqlUzASQRC-",
        "colab_type": "text"
      },
      "source": [
        "### Transform data for sckit learn\n",
        "Scikit does not support handling for categorical data, it is necessary to convert categorical features to a numerical representation"
      ]
    },
    {
      "cell_type": "code",
      "metadata": {
        "id": "OJSADKq-BMJc",
        "colab_type": "code",
        "colab": {}
      },
      "source": [
        "def transform_data(data, le, fit=False):\n",
        "  categorical_cols = list(set(data.columns) - set(data._get_numeric_data().columns))\n",
        "  len_cols = len(categorical_cols)\n",
        "  for i in range(len_cols):\n",
        "      cl = categorical_cols[i]\n",
        "      if fit:\n",
        "        data[cl] = le[cl].fit_transform(data[cl]) \n",
        "      else:\n",
        "        data[cl] = le[cl].transform(data[cl]) \n",
        "\n",
        "  return data"
      ],
      "execution_count": 16,
      "outputs": []
    },
    {
      "cell_type": "markdown",
      "metadata": {
        "id": "7Rl8HcZ7QAb9",
        "colab_type": "text"
      },
      "source": [
        "### Split features and label"
      ]
    },
    {
      "cell_type": "code",
      "metadata": {
        "id": "vJlusY_iIFv3",
        "colab_type": "code",
        "colab": {}
      },
      "source": [
        "def split_data(data):\n",
        "  y = data[label_column]\n",
        "  X = data.drop([label_column], axis=1)\n",
        "\n",
        "  return(X, y)"
      ],
      "execution_count": 17,
      "outputs": []
    },
    {
      "cell_type": "markdown",
      "metadata": {
        "id": "XOFw0GPKPcfd",
        "colab_type": "text"
      },
      "source": [
        "## Train\n",
        "Two methods were chosen, K-Nearest Neighbors (KNN) and Random Forest (RF), as both are very popular\n",
        "\n",
        "Set parameters is a bit tricky, it's most experience and a lot of *Trial-and-error*. \n",
        "\n",
        "\n",
        "**RF Parameters**\n",
        "- min_samples_leaf : guarantees a minimum number of samples in every leaf. At least 3 it's recomended to avoid outliers leaf. This control the tree depth, because nodes are expanded until all leaves contain less than min_samples_split samples\n",
        "- n_estimators: The number of trees in the forest, collect and orginze the sample widely\n",
        "- min_samples_split: To split a node at least 5 samples are needed. Does not allow each sample to be a branch.\n",
        "```\n",
        "parameters_rf = {\n",
        "              'min_samples_leaf': 3, # The minimum number of samples required to be at a leaf node. \n",
        "              'n_estimators': 20, # The number of trees in the forest. High numb\n",
        "              'min_samples_split': 5,}\n",
        "```\n",
        "\n",
        "**KNN Parameters**\n",
        "Look for 5 nearest Neighbors, is recomended to use a prime number. \n",
        "```\n",
        "parameters_knn = {\n",
        "      'n_neighbors' : 5\n",
        "  }\n",
        "```\n",
        "\n",
        "\n",
        "**Cross Validation**\n",
        "\n",
        "Learning the parameters of a prediction function and testing it on the same data is a mistake. This situation is called overfitting. \n",
        "\n",
        "To avoid it, it is common practice when performing a (supervised) machine learning experiment to hold out part of the available data as a test set X_test, y_test. \n",
        "\n",
        "However, by partitioning the available data into three sets, we drastically reduce the number of samples which can be used for learning the model, and the results can depend on a particular random choice for the pair of (train, validation) sets.\n",
        "\n",
        "A solution to this problem is a procedure called cross-validation. The training set is split into k smaller sets. The following procedure is followed for each of the k “folds”:\n",
        "\n",
        "- A model is trained using *k-1* of the folds as training data;\n",
        "\n",
        "- The resulting model is validated on the remaining part of the data. This approach can be computationally expensive, but does not waste too much data.\n",
        "\n",
        "Based on the previous explanation the procedure, Cross Validation, it's selected to train the classifiers."
      ]
    },
    {
      "cell_type": "code",
      "metadata": {
        "id": "kYdMXTDGkTNF",
        "colab_type": "code",
        "cellView": "code",
        "colab": {
          "base_uri": "https://localhost:8080/",
          "height": 1000
        },
        "outputId": "7ef07844-7ee2-47ff-cc59-854d528143ee"
      },
      "source": [
        "def train_scikit():\n",
        "  dataset = get_dataset(url = 'https://raw.githubusercontent.com/rfmorera/Font10-Test/master/adultoclase.csv')\n",
        "\n",
        "  label_encoders = [preprocessing.LabelEncoder() for i in range(len(dataset.columns))]\n",
        "  data = transform_data(dataset, label_encoders, fit=True)\n",
        "\n",
        "  (train_X, train_y) = split_data(data)\n",
        "\n",
        "  names = [\"Random Forest\", \"Nearest Neighbors\"]\n",
        "  \n",
        "  parameters_rf = {\n",
        "              'min_samples_leaf': 3,\n",
        "              'n_estimators': 20, \n",
        "              'min_samples_split': 5,\n",
        "              }\n",
        "\n",
        "  parameters_knn = {\n",
        "      'n_neighbors' : 5\n",
        "  }\n",
        "\n",
        "  classifiers = [\n",
        "                RandomForestClassifier(**parameters_rf),\n",
        "                KNeighborsClassifier(**parameters_knn)\n",
        "  ]\n",
        "\n",
        "  class_names = label_encoders[label_column].classes_\n",
        "  titles_options = [(\"Confusion matrix, without normalization\", None),\n",
        "                    (\"Normalized confusion matrix\", 'true')]\n",
        "\n",
        "  for name, clf in zip(names, classifiers):\n",
        "\n",
        "    clf.fit(train_X, train_y)\n",
        "    predictions = cross_val_predict(clf, train_X, train_y, cv=8)\n",
        "\n",
        "    print(\"Classifier: {0}\\n\\n\".format(name))\n",
        "    for title, normalize in titles_options:\n",
        "        disp = plot_confusion_matrix(clf, train_X, train_y,\n",
        "                                    display_labels=class_names,\n",
        "                                    cmap=plt.cm.Blues,\n",
        "                                    normalize=normalize)\n",
        "        disp.ax_.set_title(title)\n",
        "\n",
        "        print(title)\n",
        "        print(disp.confusion_matrix)\n",
        "        print(\"-------------------------------\")\n",
        "\n",
        "    plt.show()\n",
        "    accuracy = accuracy_score(train_y ,predictions)\n",
        "    recall = recall_score(train_y ,predictions)\n",
        "    f1 = f1_score(train_y, predictions)\n",
        "    print(\"\\n{0}\\nAccuracy: {1}\\nRecal: {2}\\nF1 score: {3}\".format(name, accuracy, recall, f1))\n",
        "    print(\"\\n\\n-------------\\n\\n\")\n",
        "\n",
        "  return (classifiers, label_encoders)\n",
        "\n",
        "([RF_model, KNN_model], label_encoders) = train_scikit()"
      ],
      "execution_count": 18,
      "outputs": [
        {
          "output_type": "stream",
          "text": [
            "Classifier: Random Forest\n",
            "\n",
            "\n",
            "Confusion matrix, without normalization\n",
            "[[15486   390]\n",
            " [ 1263  3645]]\n",
            "-------------------------------\n",
            "Normalized confusion matrix\n",
            "[[0.97543462 0.02456538]\n",
            " [0.25733496 0.74266504]]\n",
            "-------------------------------\n"
          ],
          "name": "stdout"
        },
        {
          "output_type": "display_data",
          "data": {
            "image/png": "[encoded data removed]",
            "text/plain": [
              "<Figure size 432x288 with 2 Axes>"
            ]
          },
          "metadata": {
            "tags": [],
            "needs_background": "light"
          }
        },
        {
          "output_type": "display_data",
          "data": {
            "image/png": "[encoded data removed]",
            "text/plain": [
              "<Figure size 432x288 with 2 Axes>"
            ]
          },
          "metadata": {
            "tags": [],
            "needs_background": "light"
          }
        },
        {
          "output_type": "stream",
          "text": [
            "\n",
            "Random Forest\n",
            "Accuracy: 0.8672536566589685\n",
            "Recal: 0.6132844335778321\n",
            "F1 score: 0.6857273037931427\n",
            "\n",
            "\n",
            "-------------\n",
            "\n",
            "\n",
            "Classifier: Nearest Neighbors\n",
            "\n",
            "\n",
            "Confusion matrix, without normalization\n",
            "[[15117   759]\n",
            " [ 2515  2393]]\n",
            "-------------------------------\n",
            "Normalized confusion matrix\n",
            "[[0.95219199 0.04780801]\n",
            " [0.51242869 0.48757131]]\n",
            "-------------------------------\n"
          ],
          "name": "stdout"
        },
        {
          "output_type": "display_data",
          "data": {
            "image/png": "[encoded data removed]",
            "text/plain": [
              "<Figure size 432x288 with 2 Axes>"
            ]
          },
          "metadata": {
            "tags": [],
            "needs_background": "light"
          }
        },
        {
          "output_type": "display_data",
          "data": {
            "image/png": "[encoded data removed]",
            "text/plain": [
              "<Figure size 432x288 with 2 Axes>"
            ]
          },
          "metadata": {
            "tags": [],
            "needs_background": "light"
          }
        },
        {
          "output_type": "stream",
          "text": [
            "\n",
            "Nearest Neighbors\n",
            "Accuracy: 0.7771362586605081\n",
            "Recal: 0.3235533822330888\n",
            "F1 score: 0.40676229508196715\n",
            "\n",
            "\n",
            "-------------\n",
            "\n",
            "\n"
          ],
          "name": "stdout"
        }
      ]
    },
    {
      "cell_type": "markdown",
      "metadata": {
        "id": "xlV6eey8q36A",
        "colab_type": "text"
      },
      "source": [
        "## Results\n",
        "\n",
        "Both classifiers show a good accuracy, above 0.75 but RF is better with 0.86, approximately. A much better way to evaluate the performance of a classifier is to look at the confusion matrix. \n",
        "\n",
        "Both classifiers tend to misclasify object of *>50K*. According to this metric RF is better than KNN. \n",
        "\n",
        "There are many other metrics, personally I prefer to use the F1, it is the harmonic mean of precision and recall,  to simply compare two classifiers. \n",
        "\n",
        "```\n",
        "Random Forest (RF)\n",
        "Accuracy: 0.8672536566589685\n",
        "Recal: 0.6132844335778321\n",
        "F1 score: 0.6857273037931427\n",
        "```\n",
        "\n",
        "```\n",
        "Nearest Neighbors (KNN)\n",
        "Accuracy: 0.7771362586605081\n",
        "Recal: 0.3235533822330888\n",
        "F1 score: 0.40676229508196715\n",
        "```\n",
        "\n",
        "Clearly RF is better by far than KNN in this context."
      ]
    },
    {
      "cell_type": "markdown",
      "metadata": {
        "id": "u8IfaCDSQbOq",
        "colab_type": "text"
      },
      "source": [
        "## Prediction\n",
        "Test purpose. Takes raw data transform it and evaluate in **cls** model. Finally decode the label (from numerical to categorical)"
      ]
    },
    {
      "cell_type": "code",
      "metadata": {
        "id": "eZyc3TI96mMF",
        "colab_type": "code",
        "colab": {}
      },
      "source": [
        "def predict_scikit(model, label_encoders, to_predict):\n",
        "  data = transform_data(to_predict, label_encoders, fit=False)\n",
        "  predc = model.predict(data)\n",
        "  return label_encoders[label_column].inverse_transform(predc)"
      ],
      "execution_count": 19,
      "outputs": []
    },
    {
      "cell_type": "markdown",
      "metadata": {
        "id": "dUgZA9ugQiYj",
        "colab_type": "text"
      },
      "source": [
        "# Example of use\n"
      ]
    },
    {
      "cell_type": "code",
      "metadata": {
        "id": "OHl2C5WhLXUk",
        "colab_type": "code",
        "colab": {
          "base_uri": "https://localhost:8080/",
          "height": 50
        },
        "outputId": "d7cfcc55-f503-4058-b420-3aa8fb98f0af"
      },
      "source": [
        "target = pd.DataFrame([[39,\"State-gov\",77516,\"Bachelors\",13,\"Never-married\",\"Adm-clerical\",\"Not-in-family\",\"White\",\"Male\",2174,0,40,\"United-States\"],\n",
        "                       [37,\"Private\",280464,\"Masters\",13,\"Married-civ-spouse\",\"Exec-managerial\",\"Husband\",\"Black\",\"Male\",5178,0,80,\"United-States\"]])\n",
        "\n",
        "\n",
        "prediction = predict_scikit(RF_model, label_encoders, target)\n",
        "print(prediction)\n",
        "prediction = predict_scikit(KNN_model, label_encoders, target)\n",
        "print(prediction)"
      ],
      "execution_count": 20,
      "outputs": [
        {
          "output_type": "stream",
          "text": [
            "['<=50K' '>50K']\n",
            "['<=50K' '<=50K']\n"
          ],
          "name": "stdout"
        }
      ]
    }
  ]
}