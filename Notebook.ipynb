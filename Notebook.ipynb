{
  "nbformat": 4,
  "nbformat_minor": 0,
  "metadata": {
    "colab": {
      "name": "Untitled0.ipynb",
      "provenance": [],
      "collapsed_sections": [],
      "toc_visible": true
    },
    "kernelspec": {
      "name": "python3",
      "display_name": "Python 3"
    }
  },
  "cells": [
    {
      "cell_type": "markdown",
      "metadata": {
        "id": "89oJ-aRNGuQ1",
        "colab_type": "text"
      },
      "source": [
        "# Tools\n",
        "* **Google Colab**: to share nootbooks easly and avoid configuration problems\n",
        "* **Scikit Learn**: Simple and efficient tools for predictive data analysis\n",
        "\n"
      ]
    },
    {
      "cell_type": "markdown",
      "metadata": {
        "id": "fVl7izffPrt4",
        "colab_type": "text"
      },
      "source": [
        "# Implementation"
      ]
    },
    {
      "cell_type": "code",
      "metadata": {
        "id": "xcGU0A4rKAaA",
        "colab_type": "code",
        "colab": {}
      },
      "source": [
        "from sklearn.model_selection import train_test_split\n",
        "import pandas as pd\n",
        "import numpy as np\n",
        "from sklearn.ensemble import RandomForestClassifier\n",
        "from sklearn.neighbors import KNeighborsClassifier\n",
        "from sklearn.metrics import f1_score\n",
        "from sklearn.metrics import accuracy_score\n",
        "from sklearn.metrics import plot_confusion_matrix\n",
        "from sklearn.model_selection import cross_val_predict\n",
        "from sklearn import preprocessing\n",
        "import matplotlib.pyplot as plt"
      ],
      "execution_count": 86,
      "outputs": []
    },
    {
      "cell_type": "markdown",
      "metadata": {
        "id": "OI4Ce3_zPnMw",
        "colab_type": "text"
      },
      "source": [
        "## Get Dataset\n",
        "Download dataset from Github"
      ]
    },
    {
      "cell_type": "code",
      "metadata": {
        "id": "FDha6vUGX6g9",
        "colab_type": "code",
        "colab": {},
        "cellView": "code"
      },
      "source": [
        "def get_dataset(url):\n",
        "  dataset = pd.read_csv(url, sep=';', header=None)\n",
        "  # print(dataset.head())\n",
        "  return dataset\n",
        "label_column = 14"
      ],
      "execution_count": 87,
      "outputs": []
    },
    {
      "cell_type": "markdown",
      "metadata": {
        "id": "FmGR3iTnP3_W",
        "colab_type": "text"
      },
      "source": [
        "## Data preprocessing\n",
        "Preparing data for Scikit Learn"
      ]
    },
    {
      "cell_type": "markdown",
      "metadata": {
        "id": "UqqlUzASQRC-",
        "colab_type": "text"
      },
      "source": [
        "### Transform data for sckit learn\n",
        "Scikit does not support handling for categorical data, it is necessary to convert categorical features to a numerical representation"
      ]
    },
    {
      "cell_type": "code",
      "metadata": {
        "id": "OJSADKq-BMJc",
        "colab_type": "code",
        "colab": {}
      },
      "source": [
        "def transform_data(data, le, fit=False):\n",
        "  categorical_cols = list(set(data.columns) - set(data._get_numeric_data().columns))\n",
        "  len_cols = len(categorical_cols)\n",
        "  for i in range(len_cols):\n",
        "      cl = categorical_cols[i]\n",
        "      if fit:\n",
        "        data[cl] = le[cl].fit_transform(data[cl]) \n",
        "      else:\n",
        "        data[cl] = le[cl].transform(data[cl]) \n",
        "\n",
        "  return data"
      ],
      "execution_count": 88,
      "outputs": []
    },
    {
      "cell_type": "markdown",
      "metadata": {
        "id": "7Rl8HcZ7QAb9",
        "colab_type": "text"
      },
      "source": [
        "### Split features and label"
      ]
    },
    {
      "cell_type": "code",
      "metadata": {
        "id": "vJlusY_iIFv3",
        "colab_type": "code",
        "colab": {}
      },
      "source": [
        "def split_data(data):\n",
        "  y = data[label_column]\n",
        "  X = data.drop([label_column], axis=1)\n",
        "\n",
        "  return(X, y)"
      ],
      "execution_count": 89,
      "outputs": []
    },
    {
      "cell_type": "markdown",
      "metadata": {
        "id": "XOFw0GPKPcfd",
        "colab_type": "text"
      },
      "source": [
        "## Train\n",
        "Two methods were chosen, K-Nearest Neighbors (KNN) and Random Forest (RF), as both are very popular\n",
        "\n",
        "Set parameters is a bit tricky, it's most experience and a lot of *Trial-and-error*. \n",
        "\n",
        "\n",
        "RF Parameters\n",
        "- min_samples_leaf : guarantees a minimum number of samples in every leaf. At least 3 it's recomended to avoid outliers leaf. This control the tree depth, because nodes are expanded until all leaves contain less than min_samples_split samples\n",
        "- n_estimators: The number of trees in the forest, collect and orginze the sample widely\n",
        "- min_samples_split: To split a node at least 5 samples are needed. Does not allow each sample to be a branch.\n",
        "```\n",
        "parameters_rf = {\n",
        "              'min_samples_leaf': 3, # The minimum number of samples required to be at a leaf node. \n",
        "              'n_estimators': 20, # The number of trees in the forest. High numb\n",
        "              'min_samples_split': 5,}\n",
        "```\n",
        "\n",
        "KNN Parameters\n",
        "Look for 5 nearest Neighbors, is recomended to use a prime number. \n",
        "```\n",
        "parameters_knn = {\n",
        "      'n_neighbors' : 5\n",
        "  }\n",
        "```\n",
        "\n"
      ]
    },
    {
      "cell_type": "code",
      "metadata": {
        "id": "kYdMXTDGkTNF",
        "colab_type": "code",
        "cellView": "code",
        "colab": {
          "base_uri": "https://localhost:8080/",
          "height": 1000
        },
        "outputId": "e9de5030-e0a3-4edf-8b49-305b6db61658"
      },
      "source": [
        "def train_scikit():\n",
        "  dataset = get_dataset(url = 'https://raw.githubusercontent.com/rfmorera/Font10-Test/master/adultoclase-2.csv')\n",
        "\n",
        "  label_encoders = [preprocessing.LabelEncoder() for i in range(len(dataset.columns))]\n",
        "  data = transform_data(dataset, label_encoders, fit=True)\n",
        "\n",
        "  (train_X, train_y) = split_data(data)\n",
        "\n",
        "  names = [\"Random Forest\", \"Nearest Neighbors\"]\n",
        "  \n",
        "  parameters_rf = {\n",
        "              'min_samples_leaf': 3,\n",
        "              'n_estimators': 20, \n",
        "              'min_samples_split': 5,\n",
        "              }\n",
        "\n",
        "  parameters_knn = {\n",
        "      'n_neighbors' : 5\n",
        "  }\n",
        "\n",
        "  classifiers = [\n",
        "                RandomForestClassifier(**parameters_rf),\n",
        "                KNeighborsClassifier(**parameters_knn)\n",
        "  ]\n",
        "\n",
        "  class_names = label_encoders[label_column].classes_\n",
        "  titles_options = [(\"Confusion matrix, without normalization\", None),\n",
        "                    (\"Normalized confusion matrix\", 'true')]\n",
        "\n",
        "  for name, clf in zip(names, classifiers):\n",
        "\n",
        "    clf.fit(train_X, train_y)\n",
        "    predictions = cross_val_predict(clf, train_X, train_y, cv=8)\n",
        "\n",
        "    print(\"Classifier: {0}\\n\\n\".format(name))\n",
        "    for title, normalize in titles_options:\n",
        "        disp = plot_confusion_matrix(clf, train_X, train_y,\n",
        "                                    display_labels=class_names,\n",
        "                                    cmap=plt.cm.Blues,\n",
        "                                    normalize=normalize)\n",
        "        disp.ax_.set_title(title)\n",
        "\n",
        "        print(title)\n",
        "        print(disp.confusion_matrix)\n",
        "        print(\"-------------------------------\")\n",
        "\n",
        "    plt.show()\n",
        "    score = accuracy_score(train_y ,predictions)\n",
        "    print(\"\\n{0} Accuracy: {1}\".format(name, score))\n",
        "    print(\"\\n\\n-------------\\n\\n\")\n",
        "\n",
        "  return (classifiers, label_encoders)\n",
        "\n",
        "([RF_model, KNN_model], label_encoders) = train_scikit()"
      ],
      "execution_count": 90,
      "outputs": [
        {
          "output_type": "stream",
          "text": [
            "Classifier: Random Forest\n",
            "\n",
            "\n",
            "Confusion matrix, without normalization\n",
            "[[15517   359]\n",
            " [ 1243  3665]]\n",
            "-------------------------------\n",
            "Normalized confusion matrix\n",
            "[[0.97738725 0.02261275]\n",
            " [0.25325998 0.74674002]]\n",
            "-------------------------------\n"
          ],
          "name": "stdout"
        },
        {
          "output_type": "display_data",
          "data": {
            "image/png": "[encoded data removed]",
            "text/plain": [
              "<Figure size 432x288 with 2 Axes>"
            ]
          },
          "metadata": {
            "tags": [],
            "needs_background": "light"
          }
        },
        {
          "output_type": "display_data",
          "data": {
            "image/png": "[encoded data removed]",
            "text/plain": [
              "<Figure size 432x288 with 2 Axes>"
            ]
          },
          "metadata": {
            "tags": [],
            "needs_background": "light"
          }
        },
        {
          "output_type": "stream",
          "text": [
            "\n",
            "Random Forest Accuracy: 0.8695631254811393\n",
            "\n",
            "\n",
            "-------------\n",
            "\n",
            "\n",
            "Classifier: Nearest Neighbors\n",
            "\n",
            "\n",
            "Confusion matrix, without normalization\n",
            "[[15117   759]\n",
            " [ 2515  2393]]\n",
            "-------------------------------\n",
            "Normalized confusion matrix\n",
            "[[0.95219199 0.04780801]\n",
            " [0.51242869 0.48757131]]\n",
            "-------------------------------\n"
          ],
          "name": "stdout"
        },
        {
          "output_type": "display_data",
          "data": {
            "image/png": "[encoded data removed]",
            "text/plain": [
              "<Figure size 432x288 with 2 Axes>"
            ]
          },
          "metadata": {
            "tags": [],
            "needs_background": "light"
          }
        },
        {
          "output_type": "display_data",
          "data": {
            "image/png": "[encoded data removed]",
            "text/plain": [
              "<Figure size 432x288 with 2 Axes>"
            ]
          },
          "metadata": {
            "tags": [],
            "needs_background": "light"
          }
        },
        {
          "output_type": "stream",
          "text": [
            "\n",
            "Nearest Neighbors Accuracy: 0.7771362586605081\n",
            "\n",
            "\n",
            "-------------\n",
            "\n",
            "\n"
          ],
          "name": "stdout"
        }
      ]
    },
    {
      "cell_type": "markdown",
      "metadata": {
        "id": "u8IfaCDSQbOq",
        "colab_type": "text"
      },
      "source": [
        "## Prediction\n",
        "Test purpose. Takes raw data transform it and evaluate in **cls** model. Finally decode the label (from numerical to categorical)"
      ]
    },
    {
      "cell_type": "code",
      "metadata": {
        "id": "eZyc3TI96mMF",
        "colab_type": "code",
        "colab": {}
      },
      "source": [
        "def predict_scikit(model, label_encoders, to_predict):\n",
        "  data = transform_data(to_predict, label_encoders, fit=False)\n",
        "  predc = model.predict(data)\n",
        "  return label_encoders[label_column].inverse_transform(predc)"
      ],
      "execution_count": 91,
      "outputs": []
    },
    {
      "cell_type": "markdown",
      "metadata": {
        "id": "dUgZA9ugQiYj",
        "colab_type": "text"
      },
      "source": [
        "# Example of use\n"
      ]
    },
    {
      "cell_type": "code",
      "metadata": {
        "id": "OHl2C5WhLXUk",
        "colab_type": "code",
        "colab": {
          "base_uri": "https://localhost:8080/",
          "height": 51
        },
        "outputId": "3d31b019-e7d6-4bac-ff22-d01408879a17"
      },
      "source": [
        "target = pd.DataFrame([[39,\"State-gov\",77516,\"Bachelors\",13,\"Never-married\",\"Adm-clerical\",\"Not-in-family\",\"White\",\"Male\",2174,0,40,\"United-States\"],\n",
        "                       [37,\"Private\",280464,\"Masters\",13,\"Married-civ-spouse\",\"Exec-managerial\",\"Husband\",\"Black\",\"Male\",5178,0,80,\"United-States\"]])\n",
        "\n",
        "\n",
        "prediction = predict_scikit(RF_model, label_encoders, target)\n",
        "print(prediction)\n",
        "prediction = predict_scikit(KNN_model, label_encoders, target)\n",
        "print(prediction)"
      ],
      "execution_count": 92,
      "outputs": [
        {
          "output_type": "stream",
          "text": [
            "['<=50K' '>50K']\n",
            "['<=50K' '<=50K']\n"
          ],
          "name": "stdout"
        }
      ]
    }
  ]
}